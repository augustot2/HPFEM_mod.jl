{
 "cells": [
  {
   "cell_type": "code",
   "execution_count": 1,
   "metadata": {
    "collapsed": false
   },
   "outputs": [
    {
     "data": {
      "text/plain": [
       "HPFEM"
      ]
     },
     "execution_count": 1,
     "metadata": {},
     "output_type": "execute_result"
    }
   ],
   "source": [
    "include(\"../src/HPFEM.jl\")"
   ]
  },
  {
   "cell_type": "code",
   "execution_count": 2,
   "metadata": {
    "collapsed": false
   },
   "outputs": [],
   "source": [
    "nel = 2\n",
    "nnodes = nel + 1\n",
    "idir = [1,nnodes]\n",
    "M = 15\n",
    "Q = M+2\n",
    "bas = HPFEM.Basis1d(M,Q)\n",
    "lmap = HPFEM.locmap(bas)\n",
    "dof = HPFEM.DofMap1d(lmap, nnodes, idir);\n"
   ]
  },
  {
   "cell_type": "code",
   "execution_count": 3,
   "metadata": {
    "collapsed": false
   },
   "outputs": [
    {
     "data": {
      "text/plain": [
       "resp (generic function with 1 method)"
      ]
     },
     "execution_count": 3,
     "metadata": {},
     "output_type": "execute_result"
    }
   ],
   "source": [
    "fun(x) = (1 + 4*pi^2)*sin(2*pi*x)\n",
    "resp(x) = sin(2*pi*x)"
   ]
  },
  {
   "cell_type": "code",
   "execution_count": 4,
   "metadata": {
    "collapsed": false
   },
   "outputs": [
    {
     "data": {
      "text/plain": [
       "3-element Array{Float64,1}:\n",
       " -1.0\n",
       "  0.0\n",
       "  1.0"
      ]
     },
     "execution_count": 4,
     "metadata": {},
     "output_type": "execute_result"
    }
   ],
   "source": [
    "a = -1\n",
    "b = 1\n",
    "nodes = collect(linspace(a, b, nnodes))"
   ]
  },
  {
   "cell_type": "code",
   "execution_count": 5,
   "metadata": {
    "collapsed": false
   },
   "outputs": [],
   "source": [
    "elems = [HPFEM.Element1d(e, nodes[e], nodes[e+1], bas) for e = 1:nel];"
   ]
  },
  {
   "cell_type": "code",
   "execution_count": 6,
   "metadata": {
    "collapsed": false
   },
   "outputs": [],
   "source": [
    "solver = HPFEM.CholeskySC(dof, HPFEM.BBMatrix);"
   ]
  },
  {
   "cell_type": "code",
   "execution_count": 7,
   "metadata": {
    "collapsed": false
   },
   "outputs": [
    {
     "ename": "LoadError",
     "evalue": "LoadError: MethodError: `*` has no method matching *(::Float64, ::Type{AbstractArray{Float64,1}})\nClosest candidates are:\n  *(::Any, ::Any, !Matched::Any, !Matched::Any...)\n  *(::Float64, !Matched::Float64)\n  *(::Real, !Matched::Complex{Bool})\n  ...\nwhile loading In[7], in expression starting on line 1",
     "output_type": "error",
     "traceback": [
      "LoadError: MethodError: `*` has no method matching *(::Float64, ::Type{AbstractArray{Float64,1}})\nClosest candidates are:\n  *(::Any, ::Any, !Matched::Any, !Matched::Any...)\n  *(::Float64, !Matched::Float64)\n  *(::Real, !Matched::Complex{Bool})\n  ...\nwhile loading In[7], in expression starting on line 1",
      ""
     ]
    }
   ],
   "source": [
    "for e = 1:nel\n",
    "    Ae = HPFEM.mass_matrix(bas, elems[e])\n",
    "    Se = HPFEM.stiff_matrix(bas,elems[e])\n",
    "    Ae = Ae + Se\n",
    "    HPFEM.add_local_matrix(solver, e, Ae)\n",
    "end\n"
   ]
  },
  {
   "cell_type": "code",
   "execution_count": 8,
   "metadata": {
    "collapsed": false
   },
   "outputs": [
    {
     "data": {
      "text/plain": [
       "15x2 Array{Float64,2}:\n",
       "  2.44929e-16   6.44234    \n",
       " -6.44234      -2.44929e-16\n",
       " -2.81676e-16   2.94903e-16\n",
       " -3.91647      -3.91647    \n",
       "  1.58294e-16  -2.31586e-16\n",
       "  1.6677        1.6677     \n",
       "  1.81279e-16   1.06685e-16\n",
       " -0.196584     -0.196584   \n",
       "  1.94289e-16   1.249e-16  \n",
       "  0.0109091     0.0109091  \n",
       "  1.82146e-17  -5.20417e-17\n",
       " -0.000353398  -0.000353398\n",
       " -2.10769e-16  -2.56739e-16\n",
       "  7.51952e-6    7.51952e-6 \n",
       " -3.70363e-16   9.06393e-17"
      ]
     },
     "execution_count": 8,
     "metadata": {},
     "output_type": "execute_result"
    }
   ],
   "source": [
    "Fe = zeros(HPFEM.nmodes(lmap), nel)\n",
    "for e = 1:nel\n",
    "    fe = fun(elems[e].x)\n",
    "    HPFEM.add_rhs!(bas, elems[e], fe, sub(Fe, :, e))\n",
    "end\n",
    "\n",
    "# Apply Dirichilet BCs:\n",
    "Fe[1,1] = resp(a)\n",
    "Fe[2,nel]= resp(b)\n",
    "Fe = Fe\n"
   ]
  },
  {
   "cell_type": "code",
   "execution_count": 16,
   "metadata": {
    "collapsed": false
   },
   "outputs": [
    {
     "ename": "LoadError",
     "evalue": "LoadError: KeyError: 1 not found\nwhile loading In[16], in expression starting on line 1",
     "output_type": "error",
     "traceback": [
      "LoadError: KeyError: 1 not found\nwhile loading In[16], in expression starting on line 1",
      "",
      " in solve! at /home/augusto/HPFEM.jl/src/static_cond_solver.jl:132"
     ]
    }
   ],
   "source": [
    "HPFEM.solve!(solver, Fe)"
   ]
  },
  {
   "cell_type": "code",
   "execution_count": 10,
   "metadata": {
    "collapsed": false
   },
   "outputs": [],
   "source": [
    "nξ = 101\n",
    "ξ = collect(linspace(-1,1,nξ));\n",
    "ϕ = zeros(nξ, M)\n",
    "for i = 1:M\n",
    "    ϕ[:,i] = bas(ξ, i)\n",
    "end\n",
    "\n",
    "Ue = ϕ * Fe;\n",
    "\n"
   ]
  },
  {
   "cell_type": "code",
   "execution_count": 11,
   "metadata": {
    "collapsed": false
   },
   "outputs": [
    {
     "data": {
      "image/png": "[encoded data removed]",
      "text/plain": [
       "PyPlot.Figure(PyObject <matplotlib.figure.Figure object at 0x7fe715a06f50>)"
      ]
     },
     "metadata": {},
     "output_type": "display_data"
    },
    {
     "data": {
      "text/plain": [
       "6.442340250271481"
      ]
     },
     "execution_count": 11,
     "metadata": {},
     "output_type": "execute_result"
    }
   ],
   "source": [
    "using PyPlot\n",
    "x = [(1-ξ)*el.a/2 + (1+ξ)*el.b/2 for el in elems]\n",
    "maxerr = 0.0\n",
    "\n",
    "for e = 1:nel\n",
    "    uu = resp(x[e])\n",
    "    err = maxabs(uu-Ue[:,e])\n",
    "    if err > maxerr maxerr = err end\n",
    "    plot(x[e], Ue[:,e])\n",
    "    plot(x[e], uu, \"b\")\n",
    "end\n",
    "maxerr"
   ]
  },
  {
   "cell_type": "code",
   "execution_count": null,
   "metadata": {
    "collapsed": true
   },
   "outputs": [],
   "source": []
  }
 ],
 "metadata": {
  "kernelspec": {
   "display_name": "Julia 0.4.5",
   "language": "julia",
   "name": "julia-0.4"
  },
  "language_info": {
   "file_extension": ".jl",
   "mimetype": "application/julia",
   "name": "julia",
   "version": "0.4.5"
  }
 },
 "nbformat": 4,
 "nbformat_minor": 0
}
