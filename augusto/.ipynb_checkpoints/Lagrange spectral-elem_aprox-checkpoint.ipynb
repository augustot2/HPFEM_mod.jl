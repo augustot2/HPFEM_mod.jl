{
 "cells": [
  {
   "cell_type": "code",
   "execution_count": 75,
   "metadata": {
    "collapsed": false
   },
   "outputs": [
    {
     "name": "stderr",
     "output_type": "stream",
     "text": [
      "WARNING: replacing module HPFEM\n"
     ]
    }
   ],
   "source": [
    "using Jacobi\n",
    "using PyPlot\n",
    "include(\"../../HPFEM.jl/src/HPFEM.jl\");"
   ]
  },
  {
   "cell_type": "code",
   "execution_count": 76,
   "metadata": {
    "collapsed": false
   },
   "outputs": [],
   "source": [
    "M= 10\n",
    "Q=M\n",
    "nel = 25\n",
    "nnodes = nel + 1\n",
    "a=-5\n",
    "b= 5\n",
    "idir = [1]#,nnodes]\n",
    "lagr = HPFEM.Lagrange1d(M);\n",
    "quad = HPFEM.QuadType(Q);\n",
    "base = HPFEM.Basis1d(lagr, quad);\n",
    "nodes = collect(linspace(a, b, nnodes));\n",
    "lmap = HPFEM.locmap(base)\n",
    "dof = HPFEM.DofMap1d(lmap, nnodes, idir);"
   ]
  },
  {
   "cell_type": "code",
   "execution_count": 77,
   "metadata": {
    "collapsed": false
   },
   "outputs": [],
   "source": [
    "\n",
    "elemento = [HPFEM.Element1d(e, nodes[e], nodes[e+1], base) for e = 1:nel]\n",
    "solver = HPFEM.CholeskySC(dof, HPFEM.BBSymTri);\n",
    "\n"
   ]
  },
  {
   "cell_type": "code",
   "execution_count": 78,
   "metadata": {
    "collapsed": false
   },
   "outputs": [],
   "source": [
    "for e = 1:nel\n",
    "    Ae = HPFEM.mass_matrix(base, elemento[e])\n",
    "    HPFEM.add_local_matrix(solver, e, Ae)\n",
    "end"
   ]
  },
  {
   "cell_type": "code",
   "execution_count": 79,
   "metadata": {
    "collapsed": false
   },
   "outputs": [],
   "source": [
    "fun(x) = sin(2*pi*x)\n",
    "fun(x) = 1./(1 + x.^2)\n",
    "x = linspace(a,b,101)\n",
    "#plot(x,fun(x));"
   ]
  },
  {
   "cell_type": "code",
   "execution_count": 80,
   "metadata": {
    "collapsed": false
   },
   "outputs": [],
   "source": [
    "Fe = zeros(HPFEM.nmodes(lmap), nel)\n",
    "\n",
    "for e = 1:nel\n",
    "    fe = fun(elemento[e].x)\n",
    "    HPFEM.add_rhs!(base, elemento[e], fe, sub(Fe, :, e))\n",
    "end"
   ]
  },
  {
   "cell_type": "code",
   "execution_count": 81,
   "metadata": {
    "collapsed": false
   },
   "outputs": [
    {
     "data": {
      "text/plain": [
       "10x25 Array{Float64,2}:\n",
       " 0.00017094  0.0451264  0.0536481  …  0.0647668  0.0536481  0.0451264\n",
       " 0.0387007   0.0454293  0.0540392     0.0642567  0.0532611  0.0448263\n",
       " 0.039246    0.0461211  0.0549334     0.0631321  0.0524065  0.044163 \n",
       " 0.0400533   0.0471469  0.0562625     0.0615595  0.0512086  0.0432311\n",
       " 0.0410536   0.0484215  0.0579188     0.0597491  0.0498251  0.0421518\n",
       " 0.0421518   0.0498251  0.0597491  …  0.0579188  0.0484215  0.0410536\n",
       " 0.0432311   0.0512086  0.0615595     0.0562625  0.0471469  0.0400533\n",
       " 0.044163    0.0524065  0.0631321     0.0549334  0.0461211  0.039246 \n",
       " 0.0448263   0.0532611  0.0642567     0.0540392  0.0454293  0.0387007\n",
       " 0.0451264   0.0536481  0.0647668     0.0536481  0.0451264  0.0384615"
      ]
     },
     "execution_count": 81,
     "metadata": {},
     "output_type": "execute_result"
    }
   ],
   "source": [
    "HPFEM.solve!(solver, Fe)\n"
   ]
  },
  {
   "cell_type": "code",
   "execution_count": 82,
   "metadata": {
    "collapsed": false
   },
   "outputs": [],
   "source": [
    "nξ = 101\n",
    "ξ = collect(linspace(-1,1,nξ));\n",
    "ϕ = zeros(nξ, M)\n",
    "for i = 1:M\n",
    "    ϕ[:,i] = base(ξ, i)\n",
    "end\n",
    "\n",
    "Ue = ϕ * Fe;\n"
   ]
  },
  {
   "cell_type": "code",
   "execution_count": null,
   "metadata": {
    "collapsed": true
   },
   "outputs": [],
   "source": [
    "## using PyPlot\n",
    "x = [(1-ξ)*el.a/2 + (1+ξ)*el.b/2 for el in elemento]\n",
    "maxerr = -1000000\n",
    "for e = 1:nel\n",
    "    uu = fun(x[e])\n",
    "    err = maxabs(uu-Ue[:,e])\n",
    "    if err > maxerr maxerr = err end\n",
    "        \n",
    "    plot(x[e], Ue[:,e], \"r\", x[e], uu, \"b\")\n",
    "end\n",
    "maxerr"
   ]
  }
 ],
 "metadata": {
  "kernelspec": {
   "display_name": "Julia 0.4.5",
   "language": "julia",
   "name": "julia-0.4"
  },
  "language_info": {
   "file_extension": ".jl",
   "mimetype": "application/julia",
   "name": "julia",
   "version": "0.4.5"
  }
 },
 "nbformat": 4,
 "nbformat_minor": 0
}
