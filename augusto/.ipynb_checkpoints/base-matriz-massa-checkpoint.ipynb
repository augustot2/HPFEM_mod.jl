{
 "cells": [
  {
   "cell_type": "code",
   "execution_count": 48,
   "metadata": {
    "collapsed": false
   },
   "outputs": [
    {
     "name": "stderr",
     "output_type": "stream",
     "text": [
      "WARNING: replacing module HPFEM\n"
     ]
    }
   ],
   "source": [
    "include(\"../src/HPFEM.jl\");"
   ]
  },
  {
   "cell_type": "code",
   "execution_count": 49,
   "metadata": {
    "collapsed": false
   },
   "outputs": [],
   "source": [
    "M=5\n",
    "Q=M+2\n",
    "#\n",
    "b1 = HPFEM.Basis1d(M,Q);\n",
    "#\n",
    "lagr = HPFEM.Lagrange1d(M);\n",
    "quad = HPFEM.QuadType(Q);\n",
    "b2 = HPFEM.Basis1d(lagr, quad);\n",
    "#;\n",
    "b3 = HPFEM.SEM1d(M);\n",
    "#\n",
    "leg = HPFEM.Legendre1d(M);\n",
    "b4 = HPFEM.Basis1d(leg, quad);"
   ]
  },
  {
   "cell_type": "code",
   "execution_count": 63,
   "metadata": {
    "collapsed": false
   },
   "outputs": [],
   "source": [
    "el1 = HPFEM.Element1d(1, -1.0, 1.0, b1);\n",
    "el2 = HPFEM.Element1d(1, -1.0, 1.0, b2);\n",
    "el3 = HPFEM.Element1d(1, -1.0, 1.0, b3);\n",
    "el4 = HPFEM.Element1d(1, -1.0, 1.0, b4);\n"
   ]
  },
  {
   "cell_type": "code",
   "execution_count": 64,
   "metadata": {
    "collapsed": false
   },
   "outputs": [],
   "source": [
    "M1 = HPFEM.mass_matrix(b1, el1);\n",
    "M2 = HPFEM.mass_matrix(b2, el2);\n",
    "M3 = zeros(M,M);\n",
    "HPFEM.add_mass_matrix!(b3, el3, M3);\n",
    "M4 = HPFEM.mass_matrix(b4, el4);\n",
    "\n"
   ]
  },
  {
   "cell_type": "code",
   "execution_count": 52,
   "metadata": {
    "collapsed": false
   },
   "outputs": [
    {
     "data": {
      "text/plain": [
       "5x5 Array{Float64,2}:\n",
       "  0.66667  0.33333   0.16667  -0.06667   0.0    \n",
       "  0.33333  0.66667   0.16667   0.06667   0.0    \n",
       "  0.16667  0.16667   0.06667   0.0      -0.01429\n",
       " -0.06667  0.06667   0.0       0.0381    0.0    \n",
       "  0.0      0.0      -0.01429   0.0       0.02857"
      ]
     },
     "execution_count": 52,
     "metadata": {},
     "output_type": "execute_result"
    }
   ],
   "source": [
    "round(M1,5);"
   ]
  },
  {
   "cell_type": "code",
   "execution_count": 53,
   "metadata": {
    "collapsed": false,
    "scrolled": true
   },
   "outputs": [
    {
     "data": {
      "text/plain": [
       "5x5 Array{Float64,2}:\n",
       "  0.0888889   0.0259259  -0.0296296   0.0259259  -0.0111111\n",
       "  0.0259259   0.483951    0.0691358  -0.0604938   0.0259259\n",
       " -0.0296296   0.0691358   0.632099    0.0691358  -0.0296296\n",
       "  0.0259259  -0.0604938   0.0691358   0.483951    0.0259259\n",
       " -0.0111111   0.0259259  -0.0296296   0.0259259   0.0888889"
      ]
     },
     "execution_count": 53,
     "metadata": {},
     "output_type": "execute_result"
    }
   ],
   "source": [
    "M2"
   ]
  },
  {
   "cell_type": "code",
   "execution_count": 86,
   "metadata": {
    "collapsed": false
   },
   "outputs": [
    {
     "ename": "LoadError",
     "evalue": "LoadError: PyError (:PyObject_Call) <type 'exceptions.ValueError'>\nValueError(u'x and y must have same first dimension',)\n  File \"/usr/lib/python2.7/dist-packages/matplotlib/pyplot.py\", line 3099, in plot\n    ret = ax.plot(*args, **kwargs)\n  File \"/usr/lib/python2.7/dist-packages/matplotlib/axes/_axes.py\", line 1374, in plot\n    for line in self._get_lines(*args, **kwargs):\n  File \"/usr/lib/python2.7/dist-packages/matplotlib/axes/_base.py\", line 303, in _grab_next_args\n    for seg in self._plot_args(remaining, kwargs):\n  File \"/usr/lib/python2.7/dist-packages/matplotlib/axes/_base.py\", line 281, in _plot_args\n    x, y = self._xy_from_xy(x, y)\n  File \"/usr/lib/python2.7/dist-packages/matplotlib/axes/_base.py\", line 223, in _xy_from_xy\n    raise ValueError(\"x and y must have same first dimension\")\n\nwhile loading In[86], in expression starting on line 4",
     "output_type": "error",
     "traceback": [
      "LoadError: PyError (:PyObject_Call) <type 'exceptions.ValueError'>\nValueError(u'x and y must have same first dimension',)\n  File \"/usr/lib/python2.7/dist-packages/matplotlib/pyplot.py\", line 3099, in plot\n    ret = ax.plot(*args, **kwargs)\n  File \"/usr/lib/python2.7/dist-packages/matplotlib/axes/_axes.py\", line 1374, in plot\n    for line in self._get_lines(*args, **kwargs):\n  File \"/usr/lib/python2.7/dist-packages/matplotlib/axes/_base.py\", line 303, in _grab_next_args\n    for seg in self._plot_args(remaining, kwargs):\n  File \"/usr/lib/python2.7/dist-packages/matplotlib/axes/_base.py\", line 281, in _plot_args\n    x, y = self._xy_from_xy(x, y)\n  File \"/usr/lib/python2.7/dist-packages/matplotlib/axes/_base.py\", line 223, in _xy_from_xy\n    raise ValueError(\"x and y must have same first dimension\")\n\nwhile loading In[86], in expression starting on line 4",
      "",
      " in getindex at /home/augusto/.julia/v0.4/PyCall/src/PyCall.jl:228",
      " in pysequence_query at /home/augusto/.julia/v0.4/PyCall/src/conversions.jl:717",
      " [inlined code] from /home/augusto/.julia/v0.4/PyCall/src/conversions.jl:733",
      " in pytype_query at /home/augusto/.julia/v0.4/PyCall/src/conversions.jl:762",
      " in convert at /home/augusto/.julia/v0.4/PyCall/src/conversions.jl:782",
      " in pycall at /home/augusto/.julia/v0.4/PyCall/src/PyCall.jl:363",
      " in call at /home/augusto/.julia/v0.4/PyCall/src/PyCall.jl:372",
      " in close_queued_figs at /home/augusto/.julia/v0.4/PyPlot/src/PyPlot.jl:401"
     ]
    }
   ],
   "source": [
    "fun(x) = sin(2*pi*x)\n",
    "f = fun(zglj(5))\n",
    "u = M2\\f\n",
    "plot(zglj(5),u)\n",
    "plot(zglj(5),f)"
   ]
  },
  {
   "cell_type": "code",
   "execution_count": 55,
   "metadata": {
    "collapsed": false
   },
   "outputs": [
    {
     "data": {
      "text/plain": [
       "5x1 Array{Float64,2}:\n",
       " 0.1     \n",
       " 0.544444\n",
       " 0.711111\n",
       " 0.544444\n",
       " 0.1     "
      ]
     },
     "execution_count": 55,
     "metadata": {},
     "output_type": "execute_result"
    }
   ],
   "source": [
    "sum(M2,2)"
   ]
  },
  {
   "cell_type": "code",
   "execution_count": 56,
   "metadata": {
    "collapsed": false
   },
   "outputs": [
    {
     "data": {
      "text/plain": [
       "6x6 Array{Float64,2}:\n",
       "  2.0  -0.0       0.0   0.0      -0.0       0.0    \n",
       " -0.0   0.66667  -0.0   0.0       0.0      -0.0    \n",
       "  0.0  -0.0       0.4   0.0      -0.0       0.0    \n",
       "  0.0   0.0       0.0   0.28571   0.0      -0.0    \n",
       " -0.0   0.0      -0.0   0.0       0.22222   0.0    \n",
       "  0.0  -0.0       0.0  -0.0       0.0       0.18182"
      ]
     },
     "execution_count": 56,
     "metadata": {},
     "output_type": "execute_result"
    }
   ],
   "source": [
    "round(M4,5)"
   ]
  },
  {
   "cell_type": "code",
   "execution_count": 57,
   "metadata": {
    "collapsed": false
   },
   "outputs": [
    {
     "data": {
      "text/plain": [
       "5x1 Array{Float64,2}:\n",
       " 1.1      \n",
       " 1.23333  \n",
       " 0.385714 \n",
       " 0.0380952\n",
       " 0.0142857"
      ]
     },
     "execution_count": 57,
     "metadata": {},
     "output_type": "execute_result"
    }
   ],
   "source": [
    "sum(M1,2)"
   ]
  },
  {
   "cell_type": "code",
   "execution_count": 58,
   "metadata": {
    "collapsed": true
   },
   "outputs": [],
   "source": [
    "using Jacobi\n",
    "using PyPlot"
   ]
  },
  {
   "cell_type": "code",
   "execution_count": 59,
   "metadata": {
    "collapsed": false
   },
   "outputs": [
    {
     "data": {
      "image/png": "[encoded data removed]",
      "text/plain": [
       "PyPlot.Figure(PyObject <matplotlib.figure.Figure object at 0x7f3958305e10>)"
      ]
     },
     "metadata": {},
     "output_type": "display_data"
    }
   ],
   "source": [
    "z = zglj(5)\n",
    "x = linspace(-1,1,101)\n",
    "for i in 1:3\n",
    "    plot(x,lagrange(i,x,z),label=\"\\$ l_$i \\$\")\n",
    "    legend()\n",
    "end"
   ]
  },
  {
   "cell_type": "code",
   "execution_count": 60,
   "metadata": {
    "collapsed": false
   },
   "outputs": [
    {
     "data": {
      "text/plain": [
       "5-element Array{Float64,1}:\n",
       " 0.1     \n",
       " 0.544444\n",
       " 0.711111\n",
       " 0.544444\n",
       " 0.1     "
      ]
     },
     "execution_count": 60,
     "metadata": {},
     "output_type": "execute_result"
    }
   ],
   "source": [
    "quad = HPFEM.QuadType(5)\n",
    "quad.w"
   ]
  },
  {
   "cell_type": "code",
   "execution_count": 61,
   "metadata": {
    "collapsed": false
   },
   "outputs": [
    {
     "data": {
      "text/plain": [
       "5"
      ]
     },
     "execution_count": 61,
     "metadata": {},
     "output_type": "execute_result"
    }
   ],
   "source": [
    "z = zglj(5)\n",
    "w = wglj(z)\n",
    "quad.Q"
   ]
  },
  {
   "cell_type": "code",
   "execution_count": 62,
   "metadata": {
    "collapsed": false
   },
   "outputs": [
    {
     "ename": "LoadError",
     "evalue": "LoadError: UndefVarError: lagrange1d not defined\nwhile loading In[62], in expression starting on line 1",
     "output_type": "error",
     "traceback": [
      "LoadError: UndefVarError: lagrange1d not defined\nwhile loading In[62], in expression starting on line 1",
      ""
     ]
    }
   ],
   "source": [
    "methods(HPFEM.lagrange1d)"
   ]
  }
 ],
 "metadata": {
  "kernelspec": {
   "display_name": "Julia 0.4.5",
   "language": "julia",
   "name": "julia-0.4"
  },
  "language_info": {
   "file_extension": ".jl",
   "mimetype": "application/julia",
   "name": "julia",
   "version": "0.4.5"
  }
 },
 "nbformat": 4,
 "nbformat_minor": 0
}
