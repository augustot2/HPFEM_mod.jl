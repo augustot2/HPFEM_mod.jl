{
 "cells": [
  {
   "cell_type": "code",
   "execution_count": 26,
   "metadata": {
    "collapsed": false
   },
   "outputs": [
    {
     "name": "stderr",
     "output_type": "stream",
     "text": [
      "WARNING: replacing module HPFEM\n"
     ]
    },
    {
     "data": {
      "text/plain": [
       "lagrange_oed_plot (generic function with 6 methods)"
      ]
     },
     "execution_count": 26,
     "metadata": {},
     "output_type": "execute_result"
    }
   ],
   "source": [
    "\n",
    "using Jacobi\n",
    "using PyPlot\n",
    "#using Interact\n",
    "include(\"../../HPFEM.jl/src/HPFEM.jl\")\n",
    "include(\"../src/HPFEM_mod.jl\")\n"
   ]
  },
  {
   "cell_type": "code",
   "execution_count": 27,
   "metadata": {
    "collapsed": false
   },
   "outputs": [],
   "source": [
    "idir = [1]  ### A: Só um lado é Dirichilet o outro é Neumann\n",
    "M = 10\n",
    "Q = M+2\n",
    "nel = 1\n",
    "k = 2\n",
    "uexact(x) = cos(10* x) .* sin(25* x)\n",
    "rhsfun(x) =  726*cos(10*x).*sin(25*x) + 500*sin(10*x) .* cos(25 *x)\n",
    "duexact(x) = 25*cos(10*x) .* cos(25*x) - 10 *sin(10*x) .* sin(25 *x) ### A: Precisamos agora conhecer a derivada (pelo menos no ponto)\n",
    "a = 1.7\n",
    "b = 6.3\n",
    "\n",
    "\n",
    "linspace(a,b,nel+1)\n",
    "nnodes = nel +1\n",
    "nodes = [Float64(x) for x in linspace(a, b, nnodes)];"
   ]
  },
  {
   "cell_type": "code",
   "execution_count": 29,
   "metadata": {
    "collapsed": false
   },
   "outputs": [
    {
     "ename": "LoadError",
     "evalue": "LoadError: MethodError: `linspace` has no method matching linspace(::Int64, ::HPFEM.Lagrange1d{Float64}, ::Int64)\nClosest candidates are:\n  linspace(::Real, !Matched::Real, ::Real)\n  linspace{T<:AbstractFloat}(!Matched::T<:AbstractFloat, !Matched::T<:AbstractFloat, ::Real)\n  linspace(::Real, !Matched::Real)\n  ...\nwhile loading In[29], in expression starting on line 1",
     "output_type": "error",
     "traceback": [
      "LoadError: MethodError: `linspace` has no method matching linspace(::Int64, ::HPFEM.Lagrange1d{Float64}, ::Int64)\nClosest candidates are:\n  linspace(::Real, !Matched::Real, ::Real)\n  linspace{T<:AbstractFloat}(!Matched::T<:AbstractFloat, !Matched::T<:AbstractFloat, ::Real)\n  linspace(::Real, !Matched::Real)\n  ...\nwhile loading In[29], in expression starting on line 1",
      "",
      " in lagrange_oed_neum_plot at /home/augusto/HPFEM_mod.jl/src/lagrange_plot.jl:139",
      " in lagrange_oed_neum_plot at /home/augusto/HPFEM_mod.jl/src/lagrange_plot.jl:131"
     ]
    }
   ],
   "source": [
    "lagrange_oed_neum_plot(M, Q, nel, rhsfun, uexact, duexact)"
   ]
  },
  {
   "cell_type": "code",
   "execution_count": 37,
   "metadata": {
    "collapsed": false
   },
   "outputs": [
    {
     "data": {
      "text/plain": [
       "fun (generic function with 5 methods)"
      ]
     },
     "execution_count": 37,
     "metadata": {},
     "output_type": "execute_result"
    }
   ],
   "source": [
    "function fun(M,Q,nel,rhsfun,uexact,duexact,a=-1,b=1,idir=[1,nel],nξ = 101)\n",
    "  TF = Float64\n",
    "  nnodes = nel + 1\n",
    "  b = HPFEM.Lagrange1d(M, TF)\n",
    "  quad = HPFEM.QuadType(Q, HPFEM.GLJ, TF)\n",
    "  bas = HPFEM.Basis1d(b,quad, TF)\n",
    "  lmap = HPFEM.locmap(bas)\n",
    "  dof = HPFEM.DofMap1d(lmap, nnodes, idir);\n",
    "\n",
    "    nodes = [Float64(x) for x in linspace(a, b, nnodes)];\n",
    "end"
   ]
  },
  {
   "cell_type": "code",
   "execution_count": 43,
   "metadata": {
    "collapsed": false
   },
   "outputs": [
    {
     "ename": "LoadError",
     "evalue": "LoadError: MethodError: `linspace` has no method matching linspace(::Int64, ::HPFEM.Lagrange1d{Float64}, ::Int64)\nClosest candidates are:\n  linspace(::Real, !Matched::Real, ::Real)\n  linspace{T<:AbstractFloat}(!Matched::T<:AbstractFloat, !Matched::T<:AbstractFloat, ::Real)\n  linspace(::Real, !Matched::Real)\n  ...\nwhile loading In[43], in expression starting on line 1",
     "output_type": "error",
     "traceback": [
      "LoadError: MethodError: `linspace` has no method matching linspace(::Int64, ::HPFEM.Lagrange1d{Float64}, ::Int64)\nClosest candidates are:\n  linspace(::Real, !Matched::Real, ::Real)\n  linspace{T<:AbstractFloat}(!Matched::T<:AbstractFloat, !Matched::T<:AbstractFloat, ::Real)\n  linspace(::Real, !Matched::Real)\n  ...\nwhile loading In[43], in expression starting on line 1",
      "",
      " in fun at In[37]:10",
      " in fun at In[37]:2"
     ]
    }
   ],
   "source": [
    "fun(M,Q,nel,rhsfun,uexact,duexact)"
   ]
  }
 ],
 "metadata": {
  "kernelspec": {
   "display_name": "Julia 0.4.5",
   "language": "julia",
   "name": "julia-0.4"
  },
  "language_info": {
   "file_extension": ".jl",
   "mimetype": "application/julia",
   "name": "julia",
   "version": "0.4.5"
  },
  "widgets": {
   "state": {},
   "version": "1.1.2"
  }
 },
 "nbformat": 4,
 "nbformat_minor": 0
}
