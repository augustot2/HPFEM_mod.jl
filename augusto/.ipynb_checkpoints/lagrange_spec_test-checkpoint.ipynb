{
 "cells": [
  {
   "cell_type": "code",
   "execution_count": 35,
   "metadata": {
    "collapsed": false
   },
   "outputs": [
    {
     "name": "stderr",
     "output_type": "stream",
     "text": [
      "WARNING: replacing module HPFEM\n"
     ]
    },
    {
     "data": {
      "text/plain": [
       "HPFEM"
      ]
     },
     "execution_count": 35,
     "metadata": {},
     "output_type": "execute_result"
    }
   ],
   "source": [
    "include(\"./lagrange_spec.jl\")\n",
    "include(\"../src/HPFEM.jl\")"
   ]
  },
  {
   "cell_type": "code",
   "execution_count": 34,
   "metadata": {
    "collapsed": false
   },
   "outputs": [
    {
     "ename": "LoadError",
     "evalue": "LoadError: syntax: optional positional arguments must occur at end\nwhile loading In[34], in expression starting on line 14",
     "output_type": "error",
     "traceback": [
      "LoadError: syntax: optional positional arguments must occur at end\nwhile loading In[34], in expression starting on line 14",
      ""
     ]
    }
   ],
   "source": [
    "\n"
   ]
  },
  {
   "cell_type": "code",
   "execution_count": 32,
   "metadata": {
    "collapsed": false
   },
   "outputs": [
    {
     "data": {
      "text/plain": [
       "defaults (generic function with 3 methods)"
      ]
     },
     "execution_count": 32,
     "metadata": {},
     "output_type": "execute_result"
    }
   ],
   "source": [
    "function defaults(a,b,x=5,y=6)\n",
    "    return \"$a $b and $x $y\"\n",
    "end"
   ]
  },
  {
   "cell_type": "code",
   "execution_count": 9,
   "metadata": {
    "collapsed": false
   },
   "outputs": [
    {
     "ename": "LoadError",
     "evalue": "LoadError: syntax: optional positional arguments must occur at end\nwhile loading In[9], in expression starting on line 38",
     "output_type": "error",
     "traceback": [
      "LoadError: syntax: optional positional arguments must occur at end\nwhile loading In[9], in expression starting on line 38",
      ""
     ]
    }
   ],
   "source": [
    "function lagrange(M,Q,nel,a=-1,b=1,idir=[1],fun,nξ = 100)\n",
    "  nnodes = nel + 1\n",
    "  lagr = HPFEM.Lagrange1d(M);\n",
    "  quad = HPFEM.QuadType(Q);\n",
    "  base = HPFEM.Basis1d(lagr, quad);\n",
    "  nodes = collect(linspace(a, b, nnodes));\n",
    "  lmap = HPFEM.locmap(base)\n",
    "  dof = HPFEM.DofMap1d(lmap, nnodes, idir);\n",
    "\n",
    "  elemento = [HPFEM.Element1d(e, nodes[e], nodes[e+1], base) for e = 1:nel]\n",
    "  solver = HPFEM.CholeskySC(dof, HPFEM.BBSymTri);\n",
    "\n",
    "  for e = 1:nel\n",
    "      Ae = HPFEM.mass_matrix(base, elemento[e])\n",
    "      HPFEM.add_local_matrix(solver, e, Ae)\n",
    "  end\n",
    "\n",
    "  HPFEM.solve!(solver, Fe)\n",
    "\n",
    "  nξ = 101\n",
    "  ξ = collect(linspace(-1,1,nξ));\n",
    "  ϕ = zeros(nξ, M)\n",
    "  for i = 1:M\n",
    "      ϕ[:,i] = base(ξ, i)\n",
    "  end\n",
    "  Ue = ϕ * Fe;\n",
    "\n",
    "  for e = 1:nel\n",
    "      uu = fun(x[e])\n",
    "      err = maxabs(uu-Ue[:,e])\n",
    "      if err > maxerr maxerr = err end\n",
    "\n",
    "      #plot(x[e], Ue[:,e], \"r\", x[e], uu, \"b\")\n",
    "  end\n",
    "  return maxerr\n",
    "\n",
    "end\n"
   ]
  }
 ],
 "metadata": {
  "kernelspec": {
   "display_name": "Julia 0.4.5",
   "language": "julia",
   "name": "julia-0.4"
  },
  "language_info": {
   "file_extension": ".jl",
   "mimetype": "application/julia",
   "name": "julia",
   "version": "0.4.5"
  }
 },
 "nbformat": 4,
 "nbformat_minor": 0
}
