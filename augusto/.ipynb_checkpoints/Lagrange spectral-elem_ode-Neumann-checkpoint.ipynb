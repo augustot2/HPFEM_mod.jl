{
 "cells": [
  {
   "cell_type": "code",
   "execution_count": 2,
   "metadata": {
    "collapsed": false
   },
   "outputs": [],
   "source": [
    "using Jacobi\n",
    "using PyPlot\n",
    "include(\"../../HPFEM.jl/src/HPFEM.jl\");"
   ]
  },
  {
   "cell_type": "code",
   "execution_count": 3,
   "metadata": {
    "collapsed": false
   },
   "outputs": [],
   "source": [
    "M= 10\n",
    "Q=M\n",
    "nel = 1\n",
    "nnodes = nel + 1\n",
    "a=-1\n",
    "b= 1\n",
    "nodes = collect(linspace(a, b, nnodes));\n",
    "\n",
    "idir = [1]\n",
    "lagr = HPFEM.Lagrange1d(M);\n",
    "\n",
    "quad = HPFEM.QuadType(Q);\n",
    "base = HPFEM.Basis1d(lagr, quad);\n",
    "\n",
    "lmap = HPFEM.locmap(base)\n",
    "dof = HPFEM.DofMap1d(lmap, nnodes, idir);"
   ]
  },
  {
   "cell_type": "code",
   "execution_count": 4,
   "metadata": {
    "collapsed": false
   },
   "outputs": [
    {
     "data": {
      "text/plain": [
       "8"
      ]
     },
     "execution_count": 4,
     "metadata": {},
     "output_type": "execute_result"
    }
   ],
   "source": [
    "lmap.ni"
   ]
  },
  {
   "cell_type": "code",
   "execution_count": 5,
   "metadata": {
    "collapsed": false
   },
   "outputs": [
    {
     "data": {
      "text/plain": [
       "8"
      ]
     },
     "execution_count": 5,
     "metadata": {},
     "output_type": "execute_result"
    }
   ],
   "source": [
    "HPFEM.ninterior(dof.lmap)"
   ]
  },
  {
   "cell_type": "markdown",
   "metadata": {},
   "source": [
    "# EDO \n",
    "Resolveremos a EDO com a seguinte condição de dirichlet condição de dirichlet :\n",
    "\\begin{equation}\n",
    "    y'' + y = (1 - 4 \\pi^2)\\ sin(2\\ \\pi\\ x),\\\\\n",
    "    y(x) =  sin(2\\ \\pi\\ x)    \n",
    "\\end{equation}"
   ]
  },
  {
   "cell_type": "code",
   "execution_count": 6,
   "metadata": {
    "collapsed": false
   },
   "outputs": [
    {
     "data": {
      "text/plain": [
       "resp (generic function with 1 method)"
      ]
     },
     "execution_count": 6,
     "metadata": {},
     "output_type": "execute_result"
    }
   ],
   "source": [
    "fun(x) = (1 + 4*pi^2)*sin(2*pi*x)\n",
    "resp(x) = sin(2*pi*x)\n",
    "dresp(x)= 2*pi*cos(2*pi*x)\n",
    "\n"
   ]
  },
  {
   "cell_type": "code",
   "execution_count": 7,
   "metadata": {
    "collapsed": false
   },
   "outputs": [],
   "source": [
    "elemento = [HPFEM.Element1d(e, nodes[e], nodes[e+1], base) for e = 1:nel]\n",
    "#solver = HPFEM.CholeskySC(dof, HPFEM.BBMatrix);\n",
    "solver = HPFEM.CholeskySC(dof, HPFEM.BBSymTri);"
   ]
  },
  {
   "cell_type": "code",
   "execution_count": 8,
   "metadata": {
    "collapsed": false
   },
   "outputs": [],
   "source": [
    "for e = 1:nel\n",
    "    x  = elemento[e].x   \n",
    "    Ae = HPFEM.mass_matrix(base, elemento[e])\n",
    "    Se = HPFEM.stiff_matrix(base,elemento[e])\n",
    "    Ae = Ae + Se\n",
    "    HPFEM.add_local_matrix(solver, e, Ae)\n",
    "end\n"
   ]
  },
  {
   "cell_type": "code",
   "execution_count": 9,
   "metadata": {
    "collapsed": false
   },
   "outputs": [],
   "source": [
    "Fe = zeros(HPFEM.nmodes(lmap), nel)\n",
    "\n",
    "for e = 1:nel\n",
    "    fe = fun(elemento[e].x)\n",
    "    HPFEM.add_rhs!(base, elemento[e], fe, sub(Fe, :, e))\n",
    "end\n"
   ]
  },
  {
   "cell_type": "code",
   "execution_count": 10,
   "metadata": {
    "collapsed": false
   },
   "outputs": [],
   "source": [
    "#Fe[1,1] = 6.\n",
    "#Fe[10,nel]= resp(b)"
   ]
  },
  {
   "cell_type": "code",
   "execution_count": 11,
   "metadata": {
    "collapsed": false
   },
   "outputs": [
    {
     "data": {
      "text/plain": [
       "10x1 Array{Float64,2}:\n",
       "  2.20319e-16\n",
       "  0.35008    \n",
       "  0.554915   \n",
       " -1.04665    \n",
       " -2.42952    \n",
       " -1.54958    \n",
       " -3.33562    \n",
       " -5.60111    \n",
       " -6.05526    \n",
       " -6.05716    "
      ]
     },
     "execution_count": 11,
     "metadata": {},
     "output_type": "execute_result"
    }
   ],
   "source": [
    "HPFEM.solve!(solver, Fe)\n"
   ]
  },
  {
   "cell_type": "code",
   "execution_count": 12,
   "metadata": {
    "collapsed": false
   },
   "outputs": [
    {
     "data": {
      "text/plain": [
       "101x1 Array{Float64,2}:\n",
       "  2.20319e-16\n",
       "  0.100722   \n",
       "  0.191402   \n",
       "  0.273744   \n",
       "  0.34843    \n",
       "  0.41538    \n",
       "  0.473966   \n",
       "  0.523205   \n",
       "  0.561919   \n",
       "  0.588865   \n",
       "  0.602842   \n",
       "  0.602783   \n",
       "  0.587812   \n",
       "  ⋮          \n",
       " -5.78403    \n",
       " -5.85277    \n",
       " -5.90957    \n",
       " -5.95553    \n",
       " -5.99188    \n",
       " -6.01989    \n",
       " -6.04077    \n",
       " -6.05554    \n",
       " -6.06486    \n",
       " -6.06884    \n",
       " -6.06683    \n",
       " -6.05716    "
      ]
     },
     "execution_count": 12,
     "metadata": {},
     "output_type": "execute_result"
    }
   ],
   "source": [
    "nξ = 101\n",
    "ξ = collect(linspace(-1,1,nξ));\n",
    "ϕ = zeros(nξ, M)\n",
    "for i = 1:M\n",
    "    ϕ[:,i] = base(ξ, i)\n",
    "end\n",
    "\n",
    "Ue = ϕ * Fe\n"
   ]
  },
  {
   "cell_type": "code",
   "execution_count": 13,
   "metadata": {
    "collapsed": false
   },
   "outputs": [
    {
     "data": {
      "image/png": "[encoded data removed]",
      "text/plain": [
       "PyPlot.Figure(PyObject <matplotlib.figure.Figure object at 0x7f4403bda850>)"
      ]
     },
     "metadata": {},
     "output_type": "display_data"
    },
    {
     "data": {
      "text/plain": [
       "6.057161243169161"
      ]
     },
     "execution_count": 13,
     "metadata": {},
     "output_type": "execute_result"
    }
   ],
   "source": [
    "using PyPlot\n",
    "x = [(1-ξ)*el.a/2 + (1+ξ)*el.b/2 for el in elemento]\n",
    "maxerr = -1000000\n",
    "for e = 1:nel\n",
    "    uu = resp(x[e])\n",
    "    err = maxabs(uu-Ue[:,e])\n",
    "    if err > maxerr maxerr = err end\n",
    "        \n",
    "    plot(x[e], Ue[:,e], \"r\",label= \"exata\")\n",
    "    plot(x[e], uu, \"ob\",label = \"aproximação\")\n",
    "    title(\"aproximada da solução exata da equação diferencial\")\n",
    "    legend()\n",
    "end\n",
    "maxerr"
   ]
  },
  {
   "cell_type": "code",
   "execution_count": 14,
   "metadata": {
    "collapsed": false
   },
   "outputs": [
    {
     "data": {
      "text/plain": [
       "101x1 Array{Float64,2}:\n",
       "  2.20319e-16\n",
       "  0.100722   \n",
       "  0.191402   \n",
       "  0.273744   \n",
       "  0.34843    \n",
       "  0.41538    \n",
       "  0.473966   \n",
       "  0.523205   \n",
       "  0.561919   \n",
       "  0.588865   \n",
       "  0.602842   \n",
       "  0.602783   \n",
       "  0.587812   \n",
       "  ⋮          \n",
       " -5.78403    \n",
       " -5.85277    \n",
       " -5.90957    \n",
       " -5.95553    \n",
       " -5.99188    \n",
       " -6.01989    \n",
       " -6.04077    \n",
       " -6.05554    \n",
       " -6.06486    \n",
       " -6.06884    \n",
       " -6.06683    \n",
       " -6.05716    "
      ]
     },
     "execution_count": 14,
     "metadata": {},
     "output_type": "execute_result"
    }
   ],
   "source": [
    "Ue"
   ]
  }
 ],
 "metadata": {
  "kernelspec": {
   "display_name": "Julia 0.4.5",
   "language": "julia",
   "name": "julia-0.4"
  },
  "language_info": {
   "file_extension": ".jl",
   "mimetype": "application/julia",
   "name": "julia",
   "version": "0.4.5"
  },
  "widgets": {
   "state": {},
   "version": "1.1.2"
  }
 },
 "nbformat": 4,
 "nbformat_minor": 0
}
