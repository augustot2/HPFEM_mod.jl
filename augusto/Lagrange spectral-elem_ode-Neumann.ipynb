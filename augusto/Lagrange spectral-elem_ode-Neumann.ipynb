{
 "cells": [
  {
   "cell_type": "code",
   "execution_count": 1,
   "metadata": {
    "collapsed": false
   },
   "outputs": [],
   "source": [
    "using Jacobi\n",
    "using PyPlot\n",
    "include(\"../../HPFEM.jl/src/HPFEM.jl\");"
   ]
  },
  {
   "cell_type": "code",
   "execution_count": 2,
   "metadata": {
    "collapsed": false
   },
   "outputs": [],
   "source": [
    "M= 10\n",
    "Q=M + 1\n",
    "nel = 1\n",
    "nnodes = nel + 1\n",
    "a=-1\n",
    "b= 1\n",
    "nodes = collect(linspace(a, b, nnodes));\n",
    "\n",
    "idir = [1]\n",
    "lagr = HPFEM.Lagrange1d(M);\n",
    "\n",
    "quad = HPFEM.QuadType(Q);\n",
    "base = HPFEM.Basis1d(lagr, quad);\n",
    "\n",
    "lmap = HPFEM.locmap(base)\n",
    "dof = HPFEM.DofMap1d(lmap, nnodes, idir);"
   ]
  },
  {
   "cell_type": "code",
   "execution_count": 3,
   "metadata": {
    "collapsed": false
   },
   "outputs": [
    {
     "data": {
      "text/plain": [
       "2-element Array{Int64,1}:\n",
       "  1\n",
       " 10"
      ]
     },
     "execution_count": 3,
     "metadata": {},
     "output_type": "execute_result"
    }
   ],
   "source": [
    "dof.lmap.bndry"
   ]
  },
  {
   "cell_type": "code",
   "execution_count": 4,
   "metadata": {
    "collapsed": false
   },
   "outputs": [
    {
     "data": {
      "text/plain": [
       "8"
      ]
     },
     "execution_count": 4,
     "metadata": {},
     "output_type": "execute_result"
    }
   ],
   "source": [
    "HPFEM.ninterior(dof.lmap)"
   ]
  },
  {
   "cell_type": "markdown",
   "metadata": {},
   "source": [
    "# EDO \n",
    "Resolveremos a EDO com a seguinte condição de dirichlet condição de dirichlet :\n",
    "\\begin{equation}\n",
    "    y'' + y = (1 - 4 \\pi^2)\\ sin(2\\ \\pi\\ x),\\\\\n",
    "    y(x) =  sin(2\\ \\pi\\ x)    \n",
    "\\end{equation}"
   ]
  },
  {
   "cell_type": "code",
   "execution_count": 5,
   "metadata": {
    "collapsed": false
   },
   "outputs": [
    {
     "data": {
      "text/plain": [
       "dresp (generic function with 1 method)"
      ]
     },
     "execution_count": 5,
     "metadata": {},
     "output_type": "execute_result"
    }
   ],
   "source": [
    "fun(x) = (1 + 4*pi^2)*sin(2*pi*x)\n",
    "resp(x) = sin(2*pi*x)\n",
    "dresp(x)= 2*pi*cos(2*pi*x)\n",
    "\n"
   ]
  },
  {
   "cell_type": "code",
   "execution_count": 6,
   "metadata": {
    "collapsed": false
   },
   "outputs": [],
   "source": [
    "elemento = [HPFEM.Element1d(e, nodes[e], nodes[e+1], base) for e = 1:nel]\n",
    "#solver = HPFEM.CholeskySC(dof, HPFEM.BBMatrix);\n",
    "solver = HPFEM.CholeskySC(dof, HPFEM.BBSymTri);"
   ]
  },
  {
   "cell_type": "code",
   "execution_count": 7,
   "metadata": {
    "collapsed": false
   },
   "outputs": [],
   "source": [
    "for e = 1:nel\n",
    "    x  = elemento[e].x   \n",
    "    Ae = HPFEM.mass_matrix(base, elemento[e])\n",
    "    Se = HPFEM.stiff_matrix(base,elemento[e])\n",
    "    Ae = Ae + Se\n",
    "    HPFEM.add_local_matrix(solver, e, Ae)\n",
    "end\n"
   ]
  },
  {
   "cell_type": "code",
   "execution_count": 8,
   "metadata": {
    "collapsed": false
   },
   "outputs": [],
   "source": [
    "Fe = zeros(HPFEM.nmodes(lmap), nel)\n",
    "\n",
    "for e = 1:nel\n",
    "    fe = fun(elemento[e].x)\n",
    "    HPFEM.add_rhs!(base, elemento[e], fe, sub(Fe, :, e))\n",
    "end\n"
   ]
  },
  {
   "cell_type": "code",
   "execution_count": 9,
   "metadata": {
    "collapsed": false
   },
   "outputs": [
    {
     "data": {
      "text/plain": [
       "10x1 Array{Float64,2}:\n",
       "  0.0694064\n",
       "  0.411968 \n",
       "  0.615494 \n",
       " -1.01624  \n",
       " -2.38006  \n",
       " -1.54133  \n",
       " -3.30247  \n",
       " -5.5885   \n",
       " -6.0344   \n",
       " -6.03872  "
      ]
     },
     "execution_count": 9,
     "metadata": {},
     "output_type": "execute_result"
    }
   ],
   "source": [
    "HPFEM.solve!(solver, Fe)\n"
   ]
  },
  {
   "cell_type": "code",
   "execution_count": 10,
   "metadata": {
    "collapsed": false
   },
   "outputs": [
    {
     "data": {
      "text/plain": [
       "101x1 Array{Float64,2}:\n",
       "  0.0694064\n",
       "  0.163294 \n",
       "  0.251425 \n",
       "  0.333926 \n",
       "  0.41027  \n",
       "  0.479469 \n",
       "  0.54025  \n",
       "  0.591191 \n",
       "  0.630848 \n",
       "  0.657845 \n",
       "  0.670955 \n",
       "  0.669163 \n",
       "  0.651701 \n",
       "  ⋮        \n",
       " -5.77526  \n",
       " -5.84474  \n",
       " -5.90138  \n",
       " -5.94623  \n",
       " -5.98055  \n",
       " -6.00574  \n",
       " -6.02327  \n",
       " -6.03461  \n",
       " -6.04105  \n",
       " -6.04361  \n",
       " -6.04287  \n",
       " -6.03872  "
      ]
     },
     "execution_count": 10,
     "metadata": {},
     "output_type": "execute_result"
    }
   ],
   "source": [
    "nξ = 101\n",
    "ξ = collect(linspace(-1,1,nξ));\n",
    "ϕ = zeros(nξ, M)\n",
    "for i = 1:M\n",
    "    ϕ[:,i] = base(ξ, i)\n",
    "end\n",
    "\n",
    "Ue = ϕ * Fe\n"
   ]
  },
  {
   "cell_type": "code",
   "execution_count": 11,
   "metadata": {
    "collapsed": false
   },
   "outputs": [
    {
     "data": {
      "image/png": "[encoded data removed]",
      "text/plain": [
       "PyPlot.Figure(PyObject <matplotlib.figure.Figure object at 0x7f8ca579c850>)"
      ]
     },
     "metadata": {},
     "output_type": "display_data"
    },
    {
     "data": {
      "text/plain": [
       "6.038715568384877"
      ]
     },
     "execution_count": 11,
     "metadata": {},
     "output_type": "execute_result"
    }
   ],
   "source": [
    "using PyPlot\n",
    "x = [(1-ξ)*el.a/2 + (1+ξ)*el.b/2 for el in elemento]\n",
    "maxerr = -1000000\n",
    "for e = 1:nel\n",
    "    uu = resp(x[e])\n",
    "    err = maxabs(uu-Ue[:,e])\n",
    "    if err > maxerr maxerr = err end\n",
    "        \n",
    "    plot(x[e], Ue[:,e], \"r\",label= \"exata\")\n",
    "    plot(x[e], uu, \"ob\",label = \"aproximação\")\n",
    "    title(\"aproximada da solução exata da equação diferencial\")\n",
    "    legend()\n",
    "end\n",
    "maxerr"
   ]
  },
  {
   "cell_type": "code",
   "execution_count": 12,
   "metadata": {
    "collapsed": false
   },
   "outputs": [
    {
     "data": {
      "text/plain": [
       "101x1 Array{Float64,2}:\n",
       "  0.0694064\n",
       "  0.163294 \n",
       "  0.251425 \n",
       "  0.333926 \n",
       "  0.41027  \n",
       "  0.479469 \n",
       "  0.54025  \n",
       "  0.591191 \n",
       "  0.630848 \n",
       "  0.657845 \n",
       "  0.670955 \n",
       "  0.669163 \n",
       "  0.651701 \n",
       "  ⋮        \n",
       " -5.77526  \n",
       " -5.84474  \n",
       " -5.90138  \n",
       " -5.94623  \n",
       " -5.98055  \n",
       " -6.00574  \n",
       " -6.02327  \n",
       " -6.03461  \n",
       " -6.04105  \n",
       " -6.04361  \n",
       " -6.04287  \n",
       " -6.03872  "
      ]
     },
     "execution_count": 12,
     "metadata": {},
     "output_type": "execute_result"
    }
   ],
   "source": [
    "Ue"
   ]
  }
 ],
 "metadata": {
  "kernelspec": {
   "display_name": "Julia 0.4.5",
   "language": "julia",
   "name": "julia-0.4"
  },
  "language_info": {
   "file_extension": ".jl",
   "mimetype": "application/julia",
   "name": "julia",
   "version": "0.4.5"
  },
  "widgets": {
   "state": {},
   "version": "1.1.2"
  }
 },
 "nbformat": 4,
 "nbformat_minor": 0
}
