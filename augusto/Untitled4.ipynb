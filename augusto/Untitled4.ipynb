{
 "cells": [
  {
   "cell_type": "code",
   "execution_count": 116,
   "metadata": {
    "collapsed": false
   },
   "outputs": [
    {
     "name": "stderr",
     "output_type": "stream",
     "text": [
      "WARNING: replacing module HPFEM\n",
      "WARNING: Method definition gemv!(Char, Any, AbstractArray{#T<:Number, 2}, AbstractArray{#T<:Number, 1}, Any, AbstractArray{#T<:Number, 1}) in module HPFEM at /home/augusto/HPFEM.jl/src/aux_blas.jl:10 overwritten in module HPFEM at /home/augusto/HPFEM.jl/src/aux_blas.jl:10.\n",
      "WARNING: Method definition gemv(Char, Any, AbstractArray{#T<:Number, 2}, AbstractArray{#T<:Number, 1}) in module HPFEM at /home/augusto/HPFEM.jl/src/aux_blas.jl:90 overwritten in module HPFEM at /home/augusto/HPFEM.jl/src/aux_blas.jl:90.\n",
      "WARNING: Method definition gemm!(Char, Char, Any, AbstractArray{#T<:Number, 2}, AbstractArray{#T<:Number, 2}, Any, AbstractArray{#T<:Number, 2}) in module HPFEM at /home/augusto/HPFEM.jl/src/aux_blas.jl:100 overwritten in module HPFEM at /home/augusto/HPFEM.jl/src/aux_blas.jl:100.\n",
      "WARNING: Method definition gemm(Char, Char, Any, AbstractArray{#T<:Number, 2}, AbstractArray{#T<:Number, 2}) in module HPFEM at /home/augusto/HPFEM.jl/src/aux_blas.jl:310 overwritten in module HPFEM at /home/augusto/HPFEM.jl/src/aux_blas.jl:310.\n"
     ]
    },
    {
     "data": {
      "text/plain": [
       "HPFEM"
      ]
     },
     "execution_count": 116,
     "metadata": {},
     "output_type": "execute_result"
    }
   ],
   "source": [
    "using Jacobi\n",
    "include(\"../../HPFEM.jl/src/HPFEM.jl\")"
   ]
  },
  {
   "cell_type": "code",
   "execution_count": 117,
   "metadata": {
    "collapsed": true
   },
   "outputs": [],
   "source": [
    "M= 10\n",
    "Q=M + 2\n",
    "nel = 1\n",
    "nnodes = nel + 1\n",
    "a=-5\n",
    "b= 5\n",
    "\n",
    "ze = linspace(-1,1,M) \n",
    "#zc = Jacobi.chebyshev_zeros(M)\n",
    "lagr = HPFEM.Lagrange1d(ze);\n",
    "quad = HPFEM.QuadType(Q);\n",
    "base = HPFEM.Basis1d(lagr, quad);"
   ]
  },
  {
   "cell_type": "code",
   "execution_count": 118,
   "metadata": {
    "collapsed": false
   },
   "outputs": [
    {
     "data": {
      "text/plain": [
       "linspace(-5.0,5.0,101)"
      ]
     },
     "execution_count": 118,
     "metadata": {},
     "output_type": "execute_result"
    }
   ],
   "source": [
    "\n",
    "fun(x) = 1./(1 + x.^2)\n",
    "x = linspace(a,b,101)"
   ]
  },
  {
   "cell_type": "code",
   "execution_count": 119,
   "metadata": {
    "collapsed": false
   },
   "outputs": [
    {
     "data": {
      "text/plain": [
       "10-element Array{Float64,1}:\n",
       "  0.167205 \n",
       "  0.909729 \n",
       "  0.328561 \n",
       "  0.834134 \n",
       "  1.38738  \n",
       " -0.372512 \n",
       "  2.45401  \n",
       " -0.0736856\n",
       "  1.77408  \n",
       "  0.302407 "
      ]
     },
     "execution_count": 119,
     "metadata": {},
     "output_type": "execute_result"
    }
   ],
   "source": [
    "fe = fun(zc)\n",
    "wj = base.w  * (b-a)/2\n",
    "Fe = zeros(M)\n",
    "\n",
    "for k in 1:M\n",
    "    F = zero(1)\n",
    "    for q in 1:Q\n",
    "        F+= fe[q] * base.ϕ[q,k] * wj[q]\n",
    "    end\n",
    "    Fe[k] += F\n",
    "end\n",
    "\n",
    "Feb"
   ]
  },
  {
   "cell_type": "code",
   "execution_count": 120,
   "metadata": {
    "collapsed": false
   },
   "outputs": [
    {
     "data": {
      "text/plain": [
       "12-element Array{Float64,1}:\n",
       " 2.52353\n",
       " 2.57221\n",
       " 2.72247\n",
       " 2.93846\n",
       " 3.24358\n",
       " 3.63259\n",
       " 4.07256\n",
       " 4.5291 \n",
       " 4.85988\n",
       " 5.01117\n",
       " 4.85201\n",
       " 4.56428"
      ]
     },
     "execution_count": 120,
     "metadata": {},
     "output_type": "execute_result"
    }
   ],
   "source": [
    "mass = base. ϕ' * base.wϕ\n",
    "\n",
    "U = mass\\Fe\n",
    "Uh = base.ϕ*U"
   ]
  },
  {
   "cell_type": "code",
   "execution_count": 123,
   "metadata": {
    "collapsed": false
   },
   "outputs": [
    {
     "data": {
      "image/png": "[encoded data removed]",
      "text/plain": [
       "PyPlot.Figure(PyObject <matplotlib.figure.Figure object at 0x7fd9609ef450>)"
      ]
     },
     "metadata": {},
     "output_type": "display_data"
    },
    {
     "data": {
      "text/plain": [
       "1-element Array{Any,1}:\n",
       " PyObject <matplotlib.lines.Line2D object at 0x7fd960959ed0>"
      ]
     },
     "execution_count": 123,
     "metadata": {},
     "output_type": "execute_result"
    }
   ],
   "source": [
    "using PyPlot\n",
    "plot(U)"
   ]
  }
 ],
 "metadata": {
  "kernelspec": {
   "display_name": "Julia 0.4.5",
   "language": "julia",
   "name": "julia-0.4"
  },
  "language_info": {
   "file_extension": ".jl",
   "mimetype": "application/julia",
   "name": "julia",
   "version": "0.4.5"
  }
 },
 "nbformat": 4,
 "nbformat_minor": 0
}
