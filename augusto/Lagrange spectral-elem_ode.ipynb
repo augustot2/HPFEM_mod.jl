{
 "cells": [
  {
   "cell_type": "code",
   "execution_count": 134,
   "metadata": {
    "collapsed": false
   },
   "outputs": [
    {
     "name": "stderr",
     "output_type": "stream",
     "text": [
      "WARNING: replacing module HPFEM\n"
     ]
    }
   ],
   "source": [
    "using Jacobi\n",
    "using PyPlot\n",
    "include(\"../src/HPFEM.jl\");"
   ]
  },
  {
   "cell_type": "code",
   "execution_count": 135,
   "metadata": {
    "collapsed": false
   },
   "outputs": [],
   "source": [
    "M= 10\n",
    "Q=M\n",
    "nel = 1\n",
    "nnodes = nel + 1\n",
    "a=-1\n",
    "b= 1\n",
    "nodes = collect(linspace(a, b, nnodes));\n",
    "\n",
    "idir = [1,nnodes]\n",
    "lagr = HPFEM.Lagrange1d(M);\n",
    "quad = HPFEM.QuadType(Q);\n",
    "base = HPFEM.Basis1d(lagr, quad);\n",
    "\n",
    "lmap = HPFEM.locmap(base)\n",
    "dof = HPFEM.DofMap1d(lmap, nnodes, idir);"
   ]
  },
  {
   "cell_type": "markdown",
   "metadata": {},
   "source": [
    "# EDO \n",
    "Resolveremos a EDO com a seguinte condição de dirichlet condição de dirichlet :\n",
    "\\begin{align}\n",
    "    y'' + y = (1 - 4 \\pi^2)\\ sin(2\\ \\pi\\ x),\\\\\n",
    "    y(-1) = sin(-2\\ \\pi x),\\ y(1) = sin(2\\ \\pi\\ x)\n",
    "\\end{align}"
   ]
  },
  {
   "cell_type": "code",
   "execution_count": 136,
   "metadata": {
    "collapsed": false
   },
   "outputs": [
    {
     "data": {
      "text/plain": [
       "resp (generic function with 1 method)"
      ]
     },
     "execution_count": 136,
     "metadata": {},
     "output_type": "execute_result"
    }
   ],
   "source": [
    "fun(x) = (1 + 4*pi^2)*sin(2*pi*x)\n",
    "resp(x) = sin(2*pi*x)"
   ]
  },
  {
   "cell_type": "code",
   "execution_count": 137,
   "metadata": {
    "collapsed": false
   },
   "outputs": [],
   "source": [
    "elemento = [HPFEM.Element1d(e, nodes[e], nodes[e+1], base) for e = 1:nel]\n",
    "#solver = HPFEM.CholeskySC(dof, HPFEM.BBMatrix);\n",
    "solver = HPFEM.CholeskySC(dof, HPFEM.BBSymTri);"
   ]
  },
  {
   "cell_type": "code",
   "execution_count": 138,
   "metadata": {
    "collapsed": false
   },
   "outputs": [],
   "source": [
    "for e = 1:nel\n",
    "    x  = elemento[e].x\n",
    "    \n",
    "    Ae = HPFEM.mass_matrix(base, elemento[e])\n",
    "    Se = HPFEM.stiff_matrix(base,elemento[e])\n",
    "    Ae = Ae + Se\n",
    "    HPFEM.add_local_matrix(solver, e, Ae)\n",
    "end\n"
   ]
  },
  {
   "cell_type": "code",
   "execution_count": 139,
   "metadata": {
    "collapsed": false
   },
   "outputs": [
    {
     "data": {
      "text/plain": [
       "2-element Array{Int64,1}:\n",
       "  1\n",
       " 10"
      ]
     },
     "execution_count": 139,
     "metadata": {},
     "output_type": "execute_result"
    }
   ],
   "source": [
    "bnd = HPFEM.bndry_idx(lmap)"
   ]
  },
  {
   "cell_type": "code",
   "execution_count": 140,
   "metadata": {
    "collapsed": false
   },
   "outputs": [
    {
     "data": {
      "text/plain": [
       "-2.4492935982947064e-16"
      ]
     },
     "execution_count": 140,
     "metadata": {},
     "output_type": "execute_result"
    }
   ],
   "source": [
    "Fe = zeros(HPFEM.nmodes(lmap), nel)\n",
    "\n",
    "for e = 1:nel\n",
    "    fe = fun(elemento[e].x)\n",
    "    HPFEM.add_rhs!(base, elemento[e], fe, sub(Fe, :, e))\n",
    "end\n",
    "Fe[bnd[1],1] = resp(a)\n",
    "Fe[bnd[2],nel]= resp(b)"
   ]
  },
  {
   "cell_type": "code",
   "execution_count": 141,
   "metadata": {
    "collapsed": false
   },
   "outputs": [
    {
     "data": {
      "text/plain": [
       "10x1 Array{Float64,2}:\n",
       "  2.44929e-16\n",
       "  0.48461    \n",
       "  0.996163   \n",
       " -0.134586   \n",
       " -0.867848   \n",
       "  0.867848   \n",
       "  0.134586   \n",
       " -0.996163   \n",
       " -0.48461    \n",
       " -2.44929e-16"
      ]
     },
     "execution_count": 141,
     "metadata": {},
     "output_type": "execute_result"
    }
   ],
   "source": [
    "HPFEM.solve!(solver, Fe)\n"
   ]
  },
  {
   "cell_type": "code",
   "execution_count": 142,
   "metadata": {
    "collapsed": false
   },
   "outputs": [
    {
     "data": {
      "text/plain": [
       "101x1 Array{Float64,2}:\n",
       "  2.44929e-16\n",
       "  0.134126   \n",
       "  0.258223   \n",
       "  0.374009   \n",
       "  0.48218    \n",
       "  0.582667   \n",
       "  0.674857   \n",
       "  0.757781   \n",
       "  0.830274   \n",
       "  0.891106   \n",
       "  0.93909    \n",
       "  0.973172   \n",
       "  0.992491   \n",
       "  ⋮          \n",
       " -0.973172   \n",
       " -0.93909    \n",
       " -0.891106   \n",
       " -0.830274   \n",
       " -0.757781   \n",
       " -0.674857   \n",
       " -0.582667   \n",
       " -0.48218    \n",
       " -0.374009   \n",
       " -0.258223   \n",
       " -0.134126   \n",
       " -2.44929e-16"
      ]
     },
     "execution_count": 142,
     "metadata": {},
     "output_type": "execute_result"
    }
   ],
   "source": [
    "nξ = 101\n",
    "ξ = collect(linspace(-1,1,nξ));\n",
    "ϕ = zeros(nξ, M)\n",
    "for i = 1:M\n",
    "    ϕ[:,i] = base(ξ, i)\n",
    "end\n",
    "\n",
    "Ue = ϕ * Fe\n"
   ]
  },
  {
   "cell_type": "code",
   "execution_count": 144,
   "metadata": {
    "collapsed": false
   },
   "outputs": [
    {
     "data": {
      "image/png": "[encoded data removed]",
      "text/plain": [
       "PyPlot.Figure(PyObject <matplotlib.figure.Figure object at 0x7f016a32bfd0>)"
      ]
     },
     "metadata": {},
     "output_type": "display_data"
    },
    {
     "data": {
      "text/plain": [
       "0.014708918251607916"
      ]
     },
     "execution_count": 144,
     "metadata": {},
     "output_type": "execute_result"
    }
   ],
   "source": [
    "using PyPlot\n",
    "x = [(1-ξ)*el.a/2 + (1+ξ)*el.b/2 for el in elemento]\n",
    "maxerr = -1000000\n",
    "for e = 1:nel\n",
    "    uu = resp(x[e])\n",
    "    err = maxabs(uu-Ue[:,e])\n",
    "    if err > maxerr maxerr = err end\n",
    "        \n",
    "    plot(x[e], Ue[:,e], \"r\")\n",
    "    plot(x[e], uu, \"ob\")\n",
    "end\n",
    "maxerr"
   ]
  },
  {
   "cell_type": "code",
   "execution_count": null,
   "metadata": {
    "collapsed": true
   },
   "outputs": [],
   "source": []
  }
 ],
 "metadata": {
  "kernelspec": {
   "display_name": "Julia 0.4.5",
   "language": "julia",
   "name": "julia-0.4"
  },
  "language_info": {
   "file_extension": ".jl",
   "mimetype": "application/julia",
   "name": "julia",
   "version": "0.4.5"
  }
 },
 "nbformat": 4,
 "nbformat_minor": 0
}
